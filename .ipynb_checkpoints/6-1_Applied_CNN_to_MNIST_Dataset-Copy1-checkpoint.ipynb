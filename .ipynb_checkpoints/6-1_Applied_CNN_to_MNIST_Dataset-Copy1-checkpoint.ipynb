{
 "cells": [
  {
   "cell_type": "code",
   "execution_count": 1,
   "metadata": {},
   "outputs": [
    {
     "name": "stdout",
     "output_type": "stream",
     "text": [
      "Extracting MINST_data/train-images-idx3-ubyte.gz\n",
      "Extracting MINST_data/train-labels-idx1-ubyte.gz\n",
      "Extracting MINST_data/t10k-images-idx3-ubyte.gz\n",
      "Extracting MINST_data/t10k-labels-idx1-ubyte.gz\n"
     ]
    }
   ],
   "source": [
    "import tensorflow as tf\n",
    "from tensorflow.examples.tutorials.mnist import input_data\n",
    "mnist = input_data.read_data_sets('MINST_data',one_hot=True)"
   ]
  },
  {
   "cell_type": "code",
   "execution_count": 2,
   "metadata": {},
   "outputs": [],
   "source": [
    "##batch size\n",
    "batch_size = 100\n",
    "##number of batch total\n",
    "n_batch = mnist.train.num_examples//batch_size\n",
    "\n",
    "##weight initial funciton\n",
    "def weight_variable(shape):\n",
    "    ##generate a truncated normal distribution\n",
    "    initial = tf.truncated_normal(shape,stddev=0.1) \n",
    "    return tf.Variable(initial)\n",
    "\n",
    "##pooling initial function\n",
    "def bias_variable(shape):\n",
    "    initial = tf.constant(0.1,shape=shape)\n",
    "    return tf.Variable(initial)\n",
    "\n",
    "##convolution layer\n",
    "def conv2d(x,W):\n",
    "    ## x -> [batch, in_height, in_width, in_channels] \n",
    "    ## W filter / kernel tensor of shape [filter_height, filter_width, in_channels, out_channels]\n",
    "    ## strides[0]=strides[3]=1, strides[1]=x axis step disance, strides[2]=y axis step distance\n",
    "    ##padding: \"SAME\", \"VALID\"\n",
    "    return tf.nn.conv2d(x,W,strides=[1,1,1,1],padding='SAME')\n",
    "\n",
    "##plling layer\n",
    "def max_pool_2x2(x):\n",
    "    ##ksize [1,x,y,1]\n",
    "    return tf.nn.max_pool(x,ksize=[1,2,2,1],strides=[1,2,2,1],padding='SAME')"
   ]
  },
  {
   "cell_type": "code",
   "execution_count": 3,
   "metadata": {},
   "outputs": [],
   "source": [
    "##define two placeholder\n",
    "x = tf.placeholder(tf.float32, [None, 784]) #28*28\n",
    "y = tf.placeholder(tf.float32, [None, 10])\n",
    "\n",
    "##reshape to 1D -> 2D/4D [batch, in_height, in_width, in_channels]\n",
    "x_image = tf.reshape(x, [-1, 28, 28, 1])"
   ]
  },
  {
   "cell_type": "code",
   "execution_count": 4,
   "metadata": {},
   "outputs": [],
   "source": [
    "##initial 1st convolution\n",
    "W_convl = weight_variable([5,5,1,32]) #5*5 sampling window, extract 32 convolution cores from 1 image\n",
    "b_convl = bias_variable([32]) #one bias value for each convolution core\n",
    "\n",
    "##calculate 1st convolution & with ReLu\n",
    "h_conv1 = tf.nn.relu(conv2d(x_image,W_convl) + b_convl)\n",
    "##max pooling\n",
    "h_pool1=max_pool_2x2(h_conv1)\n",
    "\n",
    "##initial 2nd convolution\n",
    "W_conv2 = weight_variable([5,5,32,64]) #5*5 sampling window, extract 64 convolution cores from 32 image\n",
    "b_conv2 = bias_variable([64]) #one bias value for each convolution core\n",
    "\n",
    "##calculate 2nd convolution & with ReLu\n",
    "h_conv2 = tf.nn.relu(conv2d(h_pool1,W_conv2) + b_conv2)\n",
    "##max pooling\n",
    "h_pool2=max_pool_2x2(h_conv2)\n",
    "\n",
    "##28*28->28*28 (32 pieces) after 1st convolution\n",
    "##28*28->14*14 (32 pieces) after 1st pooling\n",
    "##14*14->14*14 (64 pieces) after 2nd convolution\n",
    "##14*14->7*7   (64 pieces) after 2nd pooling"
   ]
  },
  {
   "cell_type": "code",
   "execution_count": 5,
   "metadata": {},
   "outputs": [],
   "source": [
    "##initialize 1st full connection layer\n",
    "W_fc1 = weight_variable([7*7*64,1024]) #from previous 7*7*64 into 1024 neurons this layer\n",
    "b_fc1 = bias_variable([1024])\n",
    "\n",
    "##reshape previous input as 1D\n",
    "h_pool2_flat = tf.reshape(h_pool2,[-1,7*7*64])\n",
    "##output of 1st full conneciton layer\n",
    "h_fc1 = tf.nn.relu(tf.matmul(h_pool2_flat,W_fc1) + b_fc1)\n",
    "\n",
    "##define keep_prob to control operating %\n",
    "keep_prob = tf.placeholder(tf.float32)\n",
    "h_fc1_drop = tf.nn.dropout(h_fc1, keep_prob)\n",
    "\n",
    "##initialize 2nd full connection layer\n",
    "W_fc2 = weight_variable([1024,10])\n",
    "b_fc2 = bias_variable([10])\n",
    "\n",
    "##calculate output\n",
    "prediction = tf.nn.softmax(tf.matmul(h_fc1_drop, W_fc2) + b_fc2)"
   ]
  },
  {
   "cell_type": "code",
   "execution_count": 6,
   "metadata": {},
   "outputs": [],
   "source": [
    "##cross entropy\n",
    "cross_entropy = tf.reduce_mean(tf.nn.softmax_cross_entropy_with_logits(labels=y, logits=prediction))\n",
    "##use Adam to optimize\n",
    "train_step = tf.train.AdamOptimizer(1e-4).minimize(cross_entropy)\n",
    "\n",
    "##comparing results\n",
    "correct_prediction = tf.equal(tf.argmax(prediction,1),tf.argmax(y,1))\n",
    "##accuracy\n",
    "accuracy= tf.reduce_mean(tf.cast(correct_prediction, tf.float32))"
   ]
  },
  {
   "cell_type": "code",
   "execution_count": 7,
   "metadata": {},
   "outputs": [
    {
     "name": "stdout",
     "output_type": "stream",
     "text": [
      "Iter 0, Accuracy= 0.9531\n",
      "Iter 1, Accuracy= 0.974\n",
      "Iter 2, Accuracy= 0.9755\n",
      "Iter 3, Accuracy= 0.9798\n",
      "Iter 4, Accuracy= 0.9836\n",
      "Iter 5, Accuracy= 0.9862\n",
      "Iter 6, Accuracy= 0.9853\n",
      "Iter 7, Accuracy= 0.9861\n",
      "Iter 8, Accuracy= 0.9881\n",
      "Iter 9, Accuracy= 0.9891\n",
      "Iter 10, Accuracy= 0.989\n",
      "Iter 11, Accuracy= 0.9901\n",
      "Iter 12, Accuracy= 0.9891\n",
      "Iter 13, Accuracy= 0.9902\n",
      "Iter 14, Accuracy= 0.9902\n",
      "Iter 15, Accuracy= 0.9901\n",
      "Iter 16, Accuracy= 0.991\n",
      "Iter 17, Accuracy= 0.9916\n",
      "Iter 18, Accuracy= 0.992\n",
      "Iter 19, Accuracy= 0.9909\n",
      "Iter 20, Accuracy= 0.992\n"
     ]
    }
   ],
   "source": [
    "##execution\n",
    "with tf.Session() as sess:\n",
    "    sess.run(tf.global_variables_initializer())\n",
    "    for epoch in range(21):\n",
    "        for batch in range(n_batch):\n",
    "            batch_xs,batch_ys = mnist.train.next_batch(batch_size)\n",
    "            sess.run(train_step, feed_dict={x:batch_xs,y:batch_ys,keep_prob:0.7})\n",
    "            \n",
    "        acc = sess.run(accuracy,feed_dict={x:mnist.test.images,y:mnist.test.labels,keep_prob:1.0})\n",
    "        print(\"Iter \" + str(epoch) + \", Accuracy= \" + str(acc))\n",
    "        "
   ]
  }
 ],
 "metadata": {
  "kernelspec": {
   "display_name": "Python 3",
   "language": "python",
   "name": "python3"
  },
  "language_info": {
   "codemirror_mode": {
    "name": "ipython",
    "version": 3
   },
   "file_extension": ".py",
   "mimetype": "text/x-python",
   "name": "python",
   "nbconvert_exporter": "python",
   "pygments_lexer": "ipython3",
   "version": "3.5.2"
  }
 },
 "nbformat": 4,
 "nbformat_minor": 2
}
